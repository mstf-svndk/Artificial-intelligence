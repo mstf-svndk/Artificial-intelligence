{
 "cells": [
  {
   "cell_type": "code",
   "execution_count": 2,
   "metadata": {},
   "outputs": [],
   "source": [
    "import pandas as pd\n",
    "pd.set_option(\"display.max_columns\",100) # kaç tane sütun görmek istersek buraya yazıyoruz ortaya .... koymadan 100 sütun gösterir"
   ]
  },
  {
   "cell_type": "code",
   "execution_count": 3,
   "metadata": {},
   "outputs": [],
   "source": [
    "hr=pd.read_excel(\"hr.xlsx\")"
   ]
  },
  {
   "cell_type": "code",
   "execution_count": 4,
   "metadata": {
    "collapsed": true
   },
   "outputs": [
    {
     "name": "stdout",
     "output_type": "stream",
     "text": [
      "<class 'pandas.core.frame.DataFrame'>\n",
      "RangeIndex: 1470 entries, 0 to 1469\n",
      "Data columns (total 35 columns):\n",
      " #   Column                    Non-Null Count  Dtype  \n",
      "---  ------                    --------------  -----  \n",
      " 0   Age                       1470 non-null   int64  \n",
      " 1   Attrition                 1205 non-null   object \n",
      " 2   BusinessTravel            1470 non-null   object \n",
      " 3   DailyRate                 1470 non-null   int64  \n",
      " 4   Department                1470 non-null   object \n",
      " 5   DistanceFromHome          1470 non-null   int64  \n",
      " 6   Education                 1470 non-null   int64  \n",
      " 7   EducationField            1470 non-null   object \n",
      " 8   EmployeeCount             1470 non-null   int64  \n",
      " 9   EmployeeNumber            1470 non-null   int64  \n",
      " 10  EnvironmentSatisfaction   1470 non-null   int64  \n",
      " 11  Gender                    1470 non-null   object \n",
      " 12  HourlyRate                1470 non-null   int64  \n",
      " 13  JobInvolvement            1470 non-null   int64  \n",
      " 14  JobLevel                  1470 non-null   int64  \n",
      " 15  JobRole                   1470 non-null   object \n",
      " 16  JobSatisfaction           1470 non-null   int64  \n",
      " 17  MaritalStatus             1470 non-null   object \n",
      " 18  MonthlyIncome             1205 non-null   float64\n",
      " 19  MonthlyRate               1470 non-null   int64  \n",
      " 20  NumCompaniesWorked        1470 non-null   int64  \n",
      " 21  Over18                    1470 non-null   object \n",
      " 22  OverTime                  1470 non-null   object \n",
      " 23  PercentSalaryHike         1470 non-null   int64  \n",
      " 24  PerformanceRating         1470 non-null   int64  \n",
      " 25  RelationshipSatisfaction  1470 non-null   int64  \n",
      " 26  StandardHours             1470 non-null   int64  \n",
      " 27  StockOptionLevel          1470 non-null   int64  \n",
      " 28  TotalWorkingYears         1470 non-null   int64  \n",
      " 29  TrainingTimesLastYear     1470 non-null   int64  \n",
      " 30  WorkLifeBalance           1470 non-null   int64  \n",
      " 31  YearsAtCompany            1470 non-null   int64  \n",
      " 32  YearsInCurrentRole        1470 non-null   int64  \n",
      " 33  YearsSinceLastPromotion   1470 non-null   int64  \n",
      " 34  YearsWithCurrManager      1470 non-null   int64  \n",
      "dtypes: float64(1), int64(25), object(9)\n",
      "memory usage: 402.1+ KB\n"
     ]
    }
   ],
   "source": [
    "hr.info()"
   ]
  },
  {
   "cell_type": "code",
   "execution_count": 6,
   "metadata": {
    "collapsed": true
   },
   "outputs": [
    {
     "data": {
      "text/plain": [
       "Age                           0\n",
       "Attrition                   265\n",
       "BusinessTravel                0\n",
       "DailyRate                     0\n",
       "Department                    0\n",
       "DistanceFromHome              0\n",
       "Education                     0\n",
       "EducationField                0\n",
       "EmployeeCount                 0\n",
       "EmployeeNumber                0\n",
       "EnvironmentSatisfaction       0\n",
       "Gender                        0\n",
       "HourlyRate                    0\n",
       "JobInvolvement                0\n",
       "JobLevel                      0\n",
       "JobRole                       0\n",
       "JobSatisfaction               0\n",
       "MaritalStatus                 0\n",
       "MonthlyIncome               265\n",
       "MonthlyRate                   0\n",
       "NumCompaniesWorked            0\n",
       "Over18                        0\n",
       "OverTime                      0\n",
       "PercentSalaryHike             0\n",
       "PerformanceRating             0\n",
       "RelationshipSatisfaction      0\n",
       "StandardHours                 0\n",
       "StockOptionLevel              0\n",
       "TotalWorkingYears             0\n",
       "TrainingTimesLastYear         0\n",
       "WorkLifeBalance               0\n",
       "YearsAtCompany                0\n",
       "YearsInCurrentRole            0\n",
       "YearsSinceLastPromotion       0\n",
       "YearsWithCurrManager          0\n",
       "dtype: int64"
      ]
     },
     "execution_count": 6,
     "metadata": {},
     "output_type": "execute_result"
    }
   ],
   "source": [
    "hr.isnull().sum() #boş veriyi gösterir"
   ]
  },
  {
   "cell_type": "code",
   "execution_count": 7,
   "metadata": {},
   "outputs": [
    {
     "data": {
      "text/plain": [
       "array(['Single', 'Married', 'Divorced'], dtype=object)"
      ]
     },
     "execution_count": 7,
     "metadata": {},
     "output_type": "execute_result"
    }
   ],
   "source": [
    "hr.MaritalStatus.unique()"
   ]
  },
  {
   "cell_type": "code",
   "execution_count": 8,
   "metadata": {},
   "outputs": [
    {
     "data": {
      "text/plain": [
       "Married     673\n",
       "Single      470\n",
       "Divorced    327\n",
       "Name: MaritalStatus, dtype: int64"
      ]
     },
     "execution_count": 8,
     "metadata": {},
     "output_type": "execute_result"
    }
   ],
   "source": [
    "hr.MaritalStatus.value_counts() #bu değerden kaç tane var "
   ]
  },
  {
   "cell_type": "code",
   "execution_count": 11,
   "metadata": {
    "collapsed": true
   },
   "outputs": [
    {
     "data": {
      "text/html": [
       "<div>\n",
       "<style scoped>\n",
       "    .dataframe tbody tr th:only-of-type {\n",
       "        vertical-align: middle;\n",
       "    }\n",
       "\n",
       "    .dataframe tbody tr th {\n",
       "        vertical-align: top;\n",
       "    }\n",
       "\n",
       "    .dataframe thead th {\n",
       "        text-align: right;\n",
       "    }\n",
       "</style>\n",
       "<table border=\"1\" class=\"dataframe\">\n",
       "  <thead>\n",
       "    <tr style=\"text-align: right;\">\n",
       "      <th></th>\n",
       "      <th>Age</th>\n",
       "      <th>DailyRate</th>\n",
       "      <th>DistanceFromHome</th>\n",
       "      <th>Education</th>\n",
       "      <th>EmployeeCount</th>\n",
       "      <th>EmployeeNumber</th>\n",
       "      <th>EnvironmentSatisfaction</th>\n",
       "      <th>HourlyRate</th>\n",
       "      <th>JobInvolvement</th>\n",
       "      <th>JobLevel</th>\n",
       "      <th>JobSatisfaction</th>\n",
       "      <th>MonthlyIncome</th>\n",
       "      <th>MonthlyRate</th>\n",
       "      <th>NumCompaniesWorked</th>\n",
       "      <th>PercentSalaryHike</th>\n",
       "      <th>PerformanceRating</th>\n",
       "      <th>RelationshipSatisfaction</th>\n",
       "      <th>StandardHours</th>\n",
       "      <th>StockOptionLevel</th>\n",
       "      <th>TotalWorkingYears</th>\n",
       "      <th>TrainingTimesLastYear</th>\n",
       "      <th>WorkLifeBalance</th>\n",
       "      <th>YearsAtCompany</th>\n",
       "      <th>YearsInCurrentRole</th>\n",
       "      <th>YearsSinceLastPromotion</th>\n",
       "      <th>YearsWithCurrManager</th>\n",
       "    </tr>\n",
       "  </thead>\n",
       "  <tbody>\n",
       "    <tr>\n",
       "      <th>count</th>\n",
       "      <td>1470.000000</td>\n",
       "      <td>1470.000000</td>\n",
       "      <td>1470.000000</td>\n",
       "      <td>1470.000000</td>\n",
       "      <td>1470.0</td>\n",
       "      <td>1470.000000</td>\n",
       "      <td>1470.000000</td>\n",
       "      <td>1470.000000</td>\n",
       "      <td>1470.000000</td>\n",
       "      <td>1470.000000</td>\n",
       "      <td>1470.000000</td>\n",
       "      <td>1205.000000</td>\n",
       "      <td>1470.000000</td>\n",
       "      <td>1470.000000</td>\n",
       "      <td>1470.000000</td>\n",
       "      <td>1470.000000</td>\n",
       "      <td>1470.000000</td>\n",
       "      <td>1470.0</td>\n",
       "      <td>1470.000000</td>\n",
       "      <td>1470.000000</td>\n",
       "      <td>1470.000000</td>\n",
       "      <td>1470.000000</td>\n",
       "      <td>1470.000000</td>\n",
       "      <td>1470.000000</td>\n",
       "      <td>1470.000000</td>\n",
       "      <td>1470.000000</td>\n",
       "    </tr>\n",
       "    <tr>\n",
       "      <th>mean</th>\n",
       "      <td>36.923810</td>\n",
       "      <td>802.485714</td>\n",
       "      <td>9.192517</td>\n",
       "      <td>2.912925</td>\n",
       "      <td>1.0</td>\n",
       "      <td>1024.865306</td>\n",
       "      <td>2.721769</td>\n",
       "      <td>65.891156</td>\n",
       "      <td>2.729932</td>\n",
       "      <td>2.063946</td>\n",
       "      <td>2.728571</td>\n",
       "      <td>6523.930290</td>\n",
       "      <td>14313.103401</td>\n",
       "      <td>2.693197</td>\n",
       "      <td>15.209524</td>\n",
       "      <td>3.153741</td>\n",
       "      <td>2.712245</td>\n",
       "      <td>80.0</td>\n",
       "      <td>0.793878</td>\n",
       "      <td>11.279592</td>\n",
       "      <td>2.799320</td>\n",
       "      <td>2.761224</td>\n",
       "      <td>7.008163</td>\n",
       "      <td>4.229252</td>\n",
       "      <td>2.187755</td>\n",
       "      <td>4.123129</td>\n",
       "    </tr>\n",
       "    <tr>\n",
       "      <th>std</th>\n",
       "      <td>9.135373</td>\n",
       "      <td>403.509100</td>\n",
       "      <td>8.106864</td>\n",
       "      <td>1.024165</td>\n",
       "      <td>0.0</td>\n",
       "      <td>602.024335</td>\n",
       "      <td>1.093082</td>\n",
       "      <td>20.329428</td>\n",
       "      <td>0.711561</td>\n",
       "      <td>1.106940</td>\n",
       "      <td>1.102846</td>\n",
       "      <td>4756.215086</td>\n",
       "      <td>7117.786044</td>\n",
       "      <td>2.498009</td>\n",
       "      <td>3.659938</td>\n",
       "      <td>0.360824</td>\n",
       "      <td>1.081209</td>\n",
       "      <td>0.0</td>\n",
       "      <td>0.852077</td>\n",
       "      <td>7.780782</td>\n",
       "      <td>1.289271</td>\n",
       "      <td>0.706476</td>\n",
       "      <td>6.126525</td>\n",
       "      <td>3.623137</td>\n",
       "      <td>3.222430</td>\n",
       "      <td>3.568136</td>\n",
       "    </tr>\n",
       "    <tr>\n",
       "      <th>min</th>\n",
       "      <td>18.000000</td>\n",
       "      <td>102.000000</td>\n",
       "      <td>1.000000</td>\n",
       "      <td>1.000000</td>\n",
       "      <td>1.0</td>\n",
       "      <td>1.000000</td>\n",
       "      <td>1.000000</td>\n",
       "      <td>30.000000</td>\n",
       "      <td>1.000000</td>\n",
       "      <td>1.000000</td>\n",
       "      <td>1.000000</td>\n",
       "      <td>1051.000000</td>\n",
       "      <td>2094.000000</td>\n",
       "      <td>0.000000</td>\n",
       "      <td>11.000000</td>\n",
       "      <td>3.000000</td>\n",
       "      <td>1.000000</td>\n",
       "      <td>80.0</td>\n",
       "      <td>0.000000</td>\n",
       "      <td>0.000000</td>\n",
       "      <td>0.000000</td>\n",
       "      <td>1.000000</td>\n",
       "      <td>0.000000</td>\n",
       "      <td>0.000000</td>\n",
       "      <td>0.000000</td>\n",
       "      <td>0.000000</td>\n",
       "    </tr>\n",
       "    <tr>\n",
       "      <th>25%</th>\n",
       "      <td>30.000000</td>\n",
       "      <td>465.000000</td>\n",
       "      <td>2.000000</td>\n",
       "      <td>2.000000</td>\n",
       "      <td>1.0</td>\n",
       "      <td>491.250000</td>\n",
       "      <td>2.000000</td>\n",
       "      <td>48.000000</td>\n",
       "      <td>2.000000</td>\n",
       "      <td>1.000000</td>\n",
       "      <td>2.000000</td>\n",
       "      <td>2897.000000</td>\n",
       "      <td>8047.000000</td>\n",
       "      <td>1.000000</td>\n",
       "      <td>12.000000</td>\n",
       "      <td>3.000000</td>\n",
       "      <td>2.000000</td>\n",
       "      <td>80.0</td>\n",
       "      <td>0.000000</td>\n",
       "      <td>6.000000</td>\n",
       "      <td>2.000000</td>\n",
       "      <td>2.000000</td>\n",
       "      <td>3.000000</td>\n",
       "      <td>2.000000</td>\n",
       "      <td>0.000000</td>\n",
       "      <td>2.000000</td>\n",
       "    </tr>\n",
       "    <tr>\n",
       "      <th>50%</th>\n",
       "      <td>36.000000</td>\n",
       "      <td>802.000000</td>\n",
       "      <td>7.000000</td>\n",
       "      <td>3.000000</td>\n",
       "      <td>1.0</td>\n",
       "      <td>1020.500000</td>\n",
       "      <td>3.000000</td>\n",
       "      <td>66.000000</td>\n",
       "      <td>3.000000</td>\n",
       "      <td>2.000000</td>\n",
       "      <td>3.000000</td>\n",
       "      <td>4936.000000</td>\n",
       "      <td>14235.500000</td>\n",
       "      <td>2.000000</td>\n",
       "      <td>14.000000</td>\n",
       "      <td>3.000000</td>\n",
       "      <td>3.000000</td>\n",
       "      <td>80.0</td>\n",
       "      <td>1.000000</td>\n",
       "      <td>10.000000</td>\n",
       "      <td>3.000000</td>\n",
       "      <td>3.000000</td>\n",
       "      <td>5.000000</td>\n",
       "      <td>3.000000</td>\n",
       "      <td>1.000000</td>\n",
       "      <td>3.000000</td>\n",
       "    </tr>\n",
       "    <tr>\n",
       "      <th>75%</th>\n",
       "      <td>43.000000</td>\n",
       "      <td>1157.000000</td>\n",
       "      <td>14.000000</td>\n",
       "      <td>4.000000</td>\n",
       "      <td>1.0</td>\n",
       "      <td>1555.750000</td>\n",
       "      <td>4.000000</td>\n",
       "      <td>83.750000</td>\n",
       "      <td>3.000000</td>\n",
       "      <td>3.000000</td>\n",
       "      <td>4.000000</td>\n",
       "      <td>8237.000000</td>\n",
       "      <td>20461.500000</td>\n",
       "      <td>4.000000</td>\n",
       "      <td>18.000000</td>\n",
       "      <td>3.000000</td>\n",
       "      <td>4.000000</td>\n",
       "      <td>80.0</td>\n",
       "      <td>1.000000</td>\n",
       "      <td>15.000000</td>\n",
       "      <td>3.000000</td>\n",
       "      <td>3.000000</td>\n",
       "      <td>9.000000</td>\n",
       "      <td>7.000000</td>\n",
       "      <td>3.000000</td>\n",
       "      <td>7.000000</td>\n",
       "    </tr>\n",
       "    <tr>\n",
       "      <th>max</th>\n",
       "      <td>60.000000</td>\n",
       "      <td>1499.000000</td>\n",
       "      <td>29.000000</td>\n",
       "      <td>5.000000</td>\n",
       "      <td>1.0</td>\n",
       "      <td>2068.000000</td>\n",
       "      <td>4.000000</td>\n",
       "      <td>100.000000</td>\n",
       "      <td>4.000000</td>\n",
       "      <td>5.000000</td>\n",
       "      <td>4.000000</td>\n",
       "      <td>19999.000000</td>\n",
       "      <td>26999.000000</td>\n",
       "      <td>9.000000</td>\n",
       "      <td>25.000000</td>\n",
       "      <td>4.000000</td>\n",
       "      <td>4.000000</td>\n",
       "      <td>80.0</td>\n",
       "      <td>3.000000</td>\n",
       "      <td>40.000000</td>\n",
       "      <td>6.000000</td>\n",
       "      <td>4.000000</td>\n",
       "      <td>40.000000</td>\n",
       "      <td>18.000000</td>\n",
       "      <td>15.000000</td>\n",
       "      <td>17.000000</td>\n",
       "    </tr>\n",
       "  </tbody>\n",
       "</table>\n",
       "</div>"
      ],
      "text/plain": [
       "               Age    DailyRate  DistanceFromHome    Education  EmployeeCount  \\\n",
       "count  1470.000000  1470.000000       1470.000000  1470.000000         1470.0   \n",
       "mean     36.923810   802.485714          9.192517     2.912925            1.0   \n",
       "std       9.135373   403.509100          8.106864     1.024165            0.0   \n",
       "min      18.000000   102.000000          1.000000     1.000000            1.0   \n",
       "25%      30.000000   465.000000          2.000000     2.000000            1.0   \n",
       "50%      36.000000   802.000000          7.000000     3.000000            1.0   \n",
       "75%      43.000000  1157.000000         14.000000     4.000000            1.0   \n",
       "max      60.000000  1499.000000         29.000000     5.000000            1.0   \n",
       "\n",
       "       EmployeeNumber  EnvironmentSatisfaction   HourlyRate  JobInvolvement  \\\n",
       "count     1470.000000              1470.000000  1470.000000     1470.000000   \n",
       "mean      1024.865306                 2.721769    65.891156        2.729932   \n",
       "std        602.024335                 1.093082    20.329428        0.711561   \n",
       "min          1.000000                 1.000000    30.000000        1.000000   \n",
       "25%        491.250000                 2.000000    48.000000        2.000000   \n",
       "50%       1020.500000                 3.000000    66.000000        3.000000   \n",
       "75%       1555.750000                 4.000000    83.750000        3.000000   \n",
       "max       2068.000000                 4.000000   100.000000        4.000000   \n",
       "\n",
       "          JobLevel  JobSatisfaction  MonthlyIncome   MonthlyRate  \\\n",
       "count  1470.000000      1470.000000    1205.000000   1470.000000   \n",
       "mean      2.063946         2.728571    6523.930290  14313.103401   \n",
       "std       1.106940         1.102846    4756.215086   7117.786044   \n",
       "min       1.000000         1.000000    1051.000000   2094.000000   \n",
       "25%       1.000000         2.000000    2897.000000   8047.000000   \n",
       "50%       2.000000         3.000000    4936.000000  14235.500000   \n",
       "75%       3.000000         4.000000    8237.000000  20461.500000   \n",
       "max       5.000000         4.000000   19999.000000  26999.000000   \n",
       "\n",
       "       NumCompaniesWorked  PercentSalaryHike  PerformanceRating  \\\n",
       "count         1470.000000        1470.000000        1470.000000   \n",
       "mean             2.693197          15.209524           3.153741   \n",
       "std              2.498009           3.659938           0.360824   \n",
       "min              0.000000          11.000000           3.000000   \n",
       "25%              1.000000          12.000000           3.000000   \n",
       "50%              2.000000          14.000000           3.000000   \n",
       "75%              4.000000          18.000000           3.000000   \n",
       "max              9.000000          25.000000           4.000000   \n",
       "\n",
       "       RelationshipSatisfaction  StandardHours  StockOptionLevel  \\\n",
       "count               1470.000000         1470.0       1470.000000   \n",
       "mean                   2.712245           80.0          0.793878   \n",
       "std                    1.081209            0.0          0.852077   \n",
       "min                    1.000000           80.0          0.000000   \n",
       "25%                    2.000000           80.0          0.000000   \n",
       "50%                    3.000000           80.0          1.000000   \n",
       "75%                    4.000000           80.0          1.000000   \n",
       "max                    4.000000           80.0          3.000000   \n",
       "\n",
       "       TotalWorkingYears  TrainingTimesLastYear  WorkLifeBalance  \\\n",
       "count        1470.000000            1470.000000      1470.000000   \n",
       "mean           11.279592               2.799320         2.761224   \n",
       "std             7.780782               1.289271         0.706476   \n",
       "min             0.000000               0.000000         1.000000   \n",
       "25%             6.000000               2.000000         2.000000   \n",
       "50%            10.000000               3.000000         3.000000   \n",
       "75%            15.000000               3.000000         3.000000   \n",
       "max            40.000000               6.000000         4.000000   \n",
       "\n",
       "       YearsAtCompany  YearsInCurrentRole  YearsSinceLastPromotion  \\\n",
       "count     1470.000000         1470.000000              1470.000000   \n",
       "mean         7.008163            4.229252                 2.187755   \n",
       "std          6.126525            3.623137                 3.222430   \n",
       "min          0.000000            0.000000                 0.000000   \n",
       "25%          3.000000            2.000000                 0.000000   \n",
       "50%          5.000000            3.000000                 1.000000   \n",
       "75%          9.000000            7.000000                 3.000000   \n",
       "max         40.000000           18.000000                15.000000   \n",
       "\n",
       "       YearsWithCurrManager  \n",
       "count           1470.000000  \n",
       "mean               4.123129  \n",
       "std                3.568136  \n",
       "min                0.000000  \n",
       "25%                2.000000  \n",
       "50%                3.000000  \n",
       "75%                7.000000  \n",
       "max               17.000000  "
      ]
     },
     "execution_count": 11,
     "metadata": {},
     "output_type": "execute_result"
    }
   ],
   "source": [
    "hr.describe()"
   ]
  },
  {
   "cell_type": "code",
   "execution_count": 13,
   "metadata": {},
   "outputs": [
    {
     "data": {
      "text/plain": [
       "Attrition        265\n",
       "MonthlyIncome    265\n",
       "dtype: int64"
      ]
     },
     "execution_count": 13,
     "metadata": {},
     "output_type": "execute_result"
    }
   ],
   "source": [
    "miss=hr.isnull().sum()\n",
    "miss[miss>1] # değeri sıfır olanları getirme burada kısaca kaç verinin boş olduğunu görüyoruz"
   ]
  },
  {
   "cell_type": "code",
   "execution_count": 14,
   "metadata": {},
   "outputs": [],
   "source": [
    "data=hr.copy()\n",
    "del data[\"Attrition\"] #bir sütunu sildik"
   ]
  },
  {
   "cell_type": "code",
   "execution_count": 16,
   "metadata": {
    "collapsed": true
   },
   "outputs": [
    {
     "data": {
      "text/plain": [
       "Age                           0\n",
       "BusinessTravel                0\n",
       "DailyRate                     0\n",
       "Department                    0\n",
       "DistanceFromHome              0\n",
       "Education                     0\n",
       "EducationField                0\n",
       "EmployeeCount                 0\n",
       "EmployeeNumber                0\n",
       "EnvironmentSatisfaction       0\n",
       "Gender                        0\n",
       "HourlyRate                    0\n",
       "JobInvolvement                0\n",
       "JobLevel                      0\n",
       "JobRole                       0\n",
       "JobSatisfaction               0\n",
       "MaritalStatus                 0\n",
       "MonthlyIncome               265\n",
       "MonthlyRate                   0\n",
       "NumCompaniesWorked            0\n",
       "Over18                        0\n",
       "OverTime                      0\n",
       "PercentSalaryHike             0\n",
       "PerformanceRating             0\n",
       "RelationshipSatisfaction      0\n",
       "StandardHours                 0\n",
       "StockOptionLevel              0\n",
       "TotalWorkingYears             0\n",
       "TrainingTimesLastYear         0\n",
       "WorkLifeBalance               0\n",
       "YearsAtCompany                0\n",
       "YearsInCurrentRole            0\n",
       "YearsSinceLastPromotion       0\n",
       "YearsWithCurrManager          0\n",
       "dtype: int64"
      ]
     },
     "execution_count": 16,
     "metadata": {},
     "output_type": "execute_result"
    }
   ],
   "source": [
    "data.isnull().sum()"
   ]
  },
  {
   "cell_type": "code",
   "execution_count": 18,
   "metadata": {},
   "outputs": [],
   "source": [
    "missing=data[data[\"MonthlyIncome\"].isnull()] #boş olan veriyi missinge eşitledik\n",
    "filled=data[data[\"MonthlyIncome\"].notnull()] # dolu olan veriyi filled e eşitledik"
   ]
  },
  {
   "cell_type": "code",
   "execution_count": 19,
   "metadata": {},
   "outputs": [
    {
     "data": {
      "text/plain": [
       "((265, 34), (1205, 34))"
      ]
     },
     "execution_count": 19,
     "metadata": {},
     "output_type": "execute_result"
    }
   ],
   "source": [
    "missing.shape, filled.shape"
   ]
  },
  {
   "cell_type": "code",
   "execution_count": 22,
   "metadata": {
    "collapsed": true
   },
   "outputs": [
    {
     "name": "stdout",
     "output_type": "stream",
     "text": [
      "<class 'pandas.core.frame.DataFrame'>\n",
      "Int64Index: 1205 entries, 0 to 1469\n",
      "Data columns (total 34 columns):\n",
      " #   Column                    Non-Null Count  Dtype  \n",
      "---  ------                    --------------  -----  \n",
      " 0   Age                       1205 non-null   int64  \n",
      " 1   BusinessTravel            1205 non-null   object \n",
      " 2   DailyRate                 1205 non-null   int64  \n",
      " 3   Department                1205 non-null   object \n",
      " 4   DistanceFromHome          1205 non-null   int64  \n",
      " 5   Education                 1205 non-null   int64  \n",
      " 6   EducationField            1205 non-null   object \n",
      " 7   EmployeeCount             1205 non-null   int64  \n",
      " 8   EmployeeNumber            1205 non-null   int64  \n",
      " 9   EnvironmentSatisfaction   1205 non-null   int64  \n",
      " 10  Gender                    1205 non-null   object \n",
      " 11  HourlyRate                1205 non-null   int64  \n",
      " 12  JobInvolvement            1205 non-null   int64  \n",
      " 13  JobLevel                  1205 non-null   int64  \n",
      " 14  JobRole                   1205 non-null   object \n",
      " 15  JobSatisfaction           1205 non-null   int64  \n",
      " 16  MaritalStatus             1205 non-null   object \n",
      " 17  MonthlyIncome             1205 non-null   float64\n",
      " 18  MonthlyRate               1205 non-null   int64  \n",
      " 19  NumCompaniesWorked        1205 non-null   int64  \n",
      " 20  Over18                    1205 non-null   object \n",
      " 21  OverTime                  1205 non-null   object \n",
      " 22  PercentSalaryHike         1205 non-null   int64  \n",
      " 23  PerformanceRating         1205 non-null   int64  \n",
      " 24  RelationshipSatisfaction  1205 non-null   int64  \n",
      " 25  StandardHours             1205 non-null   int64  \n",
      " 26  StockOptionLevel          1205 non-null   int64  \n",
      " 27  TotalWorkingYears         1205 non-null   int64  \n",
      " 28  TrainingTimesLastYear     1205 non-null   int64  \n",
      " 29  WorkLifeBalance           1205 non-null   int64  \n",
      " 30  YearsAtCompany            1205 non-null   int64  \n",
      " 31  YearsInCurrentRole        1205 non-null   int64  \n",
      " 32  YearsSinceLastPromotion   1205 non-null   int64  \n",
      " 33  YearsWithCurrManager      1205 non-null   int64  \n",
      "dtypes: float64(1), int64(25), object(8)\n",
      "memory usage: 329.5+ KB\n"
     ]
    }
   ],
   "source": [
    "filled.info()"
   ]
  },
  {
   "cell_type": "code",
   "execution_count": 25,
   "metadata": {
    "collapsed": true
   },
   "outputs": [
    {
     "data": {
      "text/plain": [
       "MonthlyIncome               1.000000\n",
       "JobLevel                    0.951287\n",
       "TotalWorkingYears           0.780438\n",
       "YearsAtCompany              0.527649\n",
       "Age                         0.504376\n",
       "YearsInCurrentRole          0.365401\n",
       "YearsWithCurrManager        0.357689\n",
       "YearsSinceLastPromotion     0.350071\n",
       "NumCompaniesWorked          0.138344\n",
       "Education                   0.095758\n",
       "RelationshipSatisfaction    0.035059\n",
       "PercentSalaryHike           0.023454\n",
       "MonthlyRate                 0.023419\n",
       "WorkLifeBalance             0.020497\n",
       "JobInvolvement              0.019477\n",
       "EmployeeNumber              0.015974\n",
       "JobSatisfaction             0.013752\n",
       "PerformanceRating           0.012966\n",
       "HourlyRate                  0.010333\n",
       "DailyRate                   0.009597\n",
       "DistanceFromHome            0.009285\n",
       "TrainingTimesLastYear       0.006785\n",
       "EnvironmentSatisfaction     0.005332\n",
       "StockOptionLevel            0.002759\n",
       "EmployeeCount                    NaN\n",
       "StandardHours                    NaN\n",
       "Name: MonthlyIncome, dtype: float64"
      ]
     },
     "execution_count": 25,
     "metadata": {},
     "output_type": "execute_result"
    }
   ],
   "source": [
    "abs(filled.corr()[\"MonthlyIncome\"]).sort_values(ascending=False)\n",
    "# maaşın diğer verilerle olan ilişkisini gördük. maaşı hangi veriler daha çok etkiliyor\n",
    "# joblevel almıyoruz çünkü maaşla aynı şey yüzde 95 çıkmış"
   ]
  },
  {
   "cell_type": "code",
   "execution_count": 28,
   "metadata": {},
   "outputs": [],
   "source": [
    "from scipy import stats\n",
    "est=stats.linregress(x=filled[\"TotalWorkingYears\"],y=filled[\"MonthlyIncome\"])\n",
    "# çalışma yılı ile maaş arasındaki ilişkiyi buluyoruz"
   ]
  },
  {
   "cell_type": "code",
   "execution_count": 31,
   "metadata": {},
   "outputs": [
    {
     "data": {
      "text/plain": [
       "LinregressResult(slope=472.6981466032999, intercept=1187.737022203578, rvalue=0.7804379598380536, pvalue=1.2815494054493011e-247, stderr=10.918293187952655)"
      ]
     },
     "execution_count": 31,
     "metadata": {},
     "output_type": "execute_result"
    }
   ],
   "source": [
    "est\n",
    "# slope eğim demek intercept başlangıç maaşı pvalue ilişki düzeyi"
   ]
  },
  {
   "cell_type": "code",
   "execution_count": 30,
   "metadata": {},
   "outputs": [
    {
     "data": {
      "text/plain": [
       "472.6981466032999"
      ]
     },
     "execution_count": 30,
     "metadata": {},
     "output_type": "execute_result"
    }
   ],
   "source": [
    "est.slope"
   ]
  },
  {
   "cell_type": "code",
   "execution_count": 34,
   "metadata": {},
   "outputs": [],
   "source": [
    "def predict(x):\n",
    "    return est.slope*x+est.intercept"
   ]
  },
  {
   "cell_type": "code",
   "execution_count": 35,
   "metadata": {},
   "outputs": [
    {
     "data": {
      "text/plain": [
       "2133.1333154101776"
      ]
     },
     "execution_count": 35,
     "metadata": {},
     "output_type": "execute_result"
    }
   ],
   "source": [
    "predict(2) # 2 kaç yıl çalıştığı"
   ]
  },
  {
   "cell_type": "code",
   "execution_count": 36,
   "metadata": {},
   "outputs": [],
   "source": [
    "from sklearn.metrics import r2_score,mean_squared_error"
   ]
  },
  {
   "cell_type": "code",
   "execution_count": 37,
   "metadata": {},
   "outputs": [
    {
     "data": {
      "text/plain": [
       "0.7804379598380538"
      ]
     },
     "execution_count": 37,
     "metadata": {},
     "output_type": "execute_result"
    }
   ],
   "source": [
    "r2_score(filled[\"MonthlyIncome\"],filled[\"TotalWorkingYears\"].apply(predict))**.5\n",
    "# başarı yüzdesini gördük"
   ]
  },
  {
   "cell_type": "code",
   "execution_count": 38,
   "metadata": {},
   "outputs": [
    {
     "data": {
      "text/plain": [
       "2972.5095419789172"
      ]
     },
     "execution_count": 38,
     "metadata": {},
     "output_type": "execute_result"
    }
   ],
   "source": [
    "mean_squared_error(filled[\"MonthlyIncome\"],filled[\"TotalWorkingYears\"].apply(predict))**0.5"
   ]
  },
  {
   "cell_type": "code",
   "execution_count": 47,
   "metadata": {},
   "outputs": [
    {
     "data": {
      "image/png": "[encoded data removed]",
      "text/plain": [
       "<Figure size 432x288 with 1 Axes>"
      ]
     },
     "metadata": {
      "needs_background": "light"
     },
     "output_type": "display_data"
    }
   ],
   "source": [
    "import matplotlib.pyplot as plt\n",
    "%matplotlib inline\n",
    "\n",
    "plt.scatter(filled[\"TotalWorkingYears\"],filled[\"MonthlyIncome\"])\n",
    "plt.plot(filled.TotalWorkingYears,predict(filled.TotalWorkingYears),c=\"r\");"
   ]
  },
  {
   "cell_type": "code",
   "execution_count": 48,
   "metadata": {
    "collapsed": true
   },
   "outputs": [
    {
     "name": "stdout",
     "output_type": "stream",
     "text": [
      "<class 'pandas.core.frame.DataFrame'>\n",
      "Int64Index: 1205 entries, 0 to 1469\n",
      "Data columns (total 34 columns):\n",
      " #   Column                    Non-Null Count  Dtype  \n",
      "---  ------                    --------------  -----  \n",
      " 0   Age                       1205 non-null   int64  \n",
      " 1   BusinessTravel            1205 non-null   object \n",
      " 2   DailyRate                 1205 non-null   int64  \n",
      " 3   Department                1205 non-null   object \n",
      " 4   DistanceFromHome          1205 non-null   int64  \n",
      " 5   Education                 1205 non-null   int64  \n",
      " 6   EducationField            1205 non-null   object \n",
      " 7   EmployeeCount             1205 non-null   int64  \n",
      " 8   EmployeeNumber            1205 non-null   int64  \n",
      " 9   EnvironmentSatisfaction   1205 non-null   int64  \n",
      " 10  Gender                    1205 non-null   object \n",
      " 11  HourlyRate                1205 non-null   int64  \n",
      " 12  JobInvolvement            1205 non-null   int64  \n",
      " 13  JobLevel                  1205 non-null   int64  \n",
      " 14  JobRole                   1205 non-null   object \n",
      " 15  JobSatisfaction           1205 non-null   int64  \n",
      " 16  MaritalStatus             1205 non-null   object \n",
      " 17  MonthlyIncome             1205 non-null   float64\n",
      " 18  MonthlyRate               1205 non-null   int64  \n",
      " 19  NumCompaniesWorked        1205 non-null   int64  \n",
      " 20  Over18                    1205 non-null   object \n",
      " 21  OverTime                  1205 non-null   object \n",
      " 22  PercentSalaryHike         1205 non-null   int64  \n",
      " 23  PerformanceRating         1205 non-null   int64  \n",
      " 24  RelationshipSatisfaction  1205 non-null   int64  \n",
      " 25  StandardHours             1205 non-null   int64  \n",
      " 26  StockOptionLevel          1205 non-null   int64  \n",
      " 27  TotalWorkingYears         1205 non-null   int64  \n",
      " 28  TrainingTimesLastYear     1205 non-null   int64  \n",
      " 29  WorkLifeBalance           1205 non-null   int64  \n",
      " 30  YearsAtCompany            1205 non-null   int64  \n",
      " 31  YearsInCurrentRole        1205 non-null   int64  \n",
      " 32  YearsSinceLastPromotion   1205 non-null   int64  \n",
      " 33  YearsWithCurrManager      1205 non-null   int64  \n",
      "dtypes: float64(1), int64(25), object(8)\n",
      "memory usage: 329.5+ KB\n"
     ]
    }
   ],
   "source": [
    "filled.info()"
   ]
  },
  {
   "cell_type": "code",
   "execution_count": 49,
   "metadata": {},
   "outputs": [
    {
     "data": {
      "text/html": [
       "<div>\n",
       "<style scoped>\n",
       "    .dataframe tbody tr th:only-of-type {\n",
       "        vertical-align: middle;\n",
       "    }\n",
       "\n",
       "    .dataframe tbody tr th {\n",
       "        vertical-align: top;\n",
       "    }\n",
       "\n",
       "    .dataframe thead th {\n",
       "        text-align: right;\n",
       "    }\n",
       "</style>\n",
       "<table border=\"1\" class=\"dataframe\">\n",
       "  <thead>\n",
       "    <tr style=\"text-align: right;\">\n",
       "      <th></th>\n",
       "      <th>BusinessTravel</th>\n",
       "      <th>Department</th>\n",
       "      <th>EducationField</th>\n",
       "      <th>Gender</th>\n",
       "      <th>JobRole</th>\n",
       "      <th>MaritalStatus</th>\n",
       "      <th>Over18</th>\n",
       "      <th>OverTime</th>\n",
       "    </tr>\n",
       "  </thead>\n",
       "  <tbody>\n",
       "    <tr>\n",
       "      <th>0</th>\n",
       "      <td>Travel_Rarely</td>\n",
       "      <td>Sales</td>\n",
       "      <td>Life Sciences</td>\n",
       "      <td>Female</td>\n",
       "      <td>Sales Executive</td>\n",
       "      <td>Single</td>\n",
       "      <td>Y</td>\n",
       "      <td>Yes</td>\n",
       "    </tr>\n",
       "    <tr>\n",
       "      <th>1</th>\n",
       "      <td>Travel_Frequently</td>\n",
       "      <td>Research &amp; Development</td>\n",
       "      <td>Life Sciences</td>\n",
       "      <td>Male</td>\n",
       "      <td>Research Scientist</td>\n",
       "      <td>Married</td>\n",
       "      <td>Y</td>\n",
       "      <td>No</td>\n",
       "    </tr>\n",
       "    <tr>\n",
       "      <th>2</th>\n",
       "      <td>Travel_Rarely</td>\n",
       "      <td>Research &amp; Development</td>\n",
       "      <td>Other</td>\n",
       "      <td>Male</td>\n",
       "      <td>Laboratory Technician</td>\n",
       "      <td>Single</td>\n",
       "      <td>Y</td>\n",
       "      <td>Yes</td>\n",
       "    </tr>\n",
       "    <tr>\n",
       "      <th>3</th>\n",
       "      <td>Travel_Frequently</td>\n",
       "      <td>Research &amp; Development</td>\n",
       "      <td>Life Sciences</td>\n",
       "      <td>Female</td>\n",
       "      <td>Research Scientist</td>\n",
       "      <td>Married</td>\n",
       "      <td>Y</td>\n",
       "      <td>Yes</td>\n",
       "    </tr>\n",
       "    <tr>\n",
       "      <th>4</th>\n",
       "      <td>Travel_Rarely</td>\n",
       "      <td>Research &amp; Development</td>\n",
       "      <td>Medical</td>\n",
       "      <td>Male</td>\n",
       "      <td>Laboratory Technician</td>\n",
       "      <td>Married</td>\n",
       "      <td>Y</td>\n",
       "      <td>No</td>\n",
       "    </tr>\n",
       "  </tbody>\n",
       "</table>\n",
       "</div>"
      ],
      "text/plain": [
       "      BusinessTravel              Department EducationField  Gender  \\\n",
       "0      Travel_Rarely                   Sales  Life Sciences  Female   \n",
       "1  Travel_Frequently  Research & Development  Life Sciences    Male   \n",
       "2      Travel_Rarely  Research & Development          Other    Male   \n",
       "3  Travel_Frequently  Research & Development  Life Sciences  Female   \n",
       "4      Travel_Rarely  Research & Development        Medical    Male   \n",
       "\n",
       "                 JobRole MaritalStatus Over18 OverTime  \n",
       "0        Sales Executive        Single      Y      Yes  \n",
       "1     Research Scientist       Married      Y       No  \n",
       "2  Laboratory Technician        Single      Y      Yes  \n",
       "3     Research Scientist       Married      Y      Yes  \n",
       "4  Laboratory Technician       Married      Y       No  "
      ]
     },
     "execution_count": 49,
     "metadata": {},
     "output_type": "execute_result"
    }
   ],
   "source": [
    "filled.select_dtypes(exclude=\"number\").head()\n",
    "#yazı olan sütunları aldık"
   ]
  },
  {
   "cell_type": "code",
   "execution_count": 50,
   "metadata": {},
   "outputs": [
    {
     "data": {
      "text/plain": [
       "BusinessTravel    3\n",
       "Department        3\n",
       "EducationField    6\n",
       "Gender            2\n",
       "JobRole           9\n",
       "MaritalStatus     3\n",
       "Over18            1\n",
       "OverTime          2\n",
       "dtype: int64"
      ]
     },
     "execution_count": 50,
     "metadata": {},
     "output_type": "execute_result"
    }
   ],
   "source": [
    "filled.select_dtypes(exclude=\"number\").nunique()"
   ]
  },
  {
   "cell_type": "code",
   "execution_count": 51,
   "metadata": {
    "collapsed": true
   },
   "outputs": [
    {
     "name": "stdout",
     "output_type": "stream",
     "text": [
      "<class 'pandas.core.frame.DataFrame'>\n",
      "Int64Index: 1205 entries, 0 to 1469\n",
      "Data columns (total 47 columns):\n",
      " #   Column                             Non-Null Count  Dtype  \n",
      "---  ------                             --------------  -----  \n",
      " 0   Age                                1205 non-null   int64  \n",
      " 1   DailyRate                          1205 non-null   int64  \n",
      " 2   DistanceFromHome                   1205 non-null   int64  \n",
      " 3   Education                          1205 non-null   int64  \n",
      " 4   EmployeeCount                      1205 non-null   int64  \n",
      " 5   EmployeeNumber                     1205 non-null   int64  \n",
      " 6   EnvironmentSatisfaction            1205 non-null   int64  \n",
      " 7   HourlyRate                         1205 non-null   int64  \n",
      " 8   JobInvolvement                     1205 non-null   int64  \n",
      " 9   JobLevel                           1205 non-null   int64  \n",
      " 10  JobSatisfaction                    1205 non-null   int64  \n",
      " 11  MonthlyIncome                      1205 non-null   float64\n",
      " 12  MonthlyRate                        1205 non-null   int64  \n",
      " 13  NumCompaniesWorked                 1205 non-null   int64  \n",
      " 14  PercentSalaryHike                  1205 non-null   int64  \n",
      " 15  PerformanceRating                  1205 non-null   int64  \n",
      " 16  RelationshipSatisfaction           1205 non-null   int64  \n",
      " 17  StandardHours                      1205 non-null   int64  \n",
      " 18  StockOptionLevel                   1205 non-null   int64  \n",
      " 19  TotalWorkingYears                  1205 non-null   int64  \n",
      " 20  TrainingTimesLastYear              1205 non-null   int64  \n",
      " 21  WorkLifeBalance                    1205 non-null   int64  \n",
      " 22  YearsAtCompany                     1205 non-null   int64  \n",
      " 23  YearsInCurrentRole                 1205 non-null   int64  \n",
      " 24  YearsSinceLastPromotion            1205 non-null   int64  \n",
      " 25  YearsWithCurrManager               1205 non-null   int64  \n",
      " 26  BusinessTravel_Travel_Frequently   1205 non-null   uint8  \n",
      " 27  BusinessTravel_Travel_Rarely       1205 non-null   uint8  \n",
      " 28  Department_Research & Development  1205 non-null   uint8  \n",
      " 29  Department_Sales                   1205 non-null   uint8  \n",
      " 30  EducationField_Life Sciences       1205 non-null   uint8  \n",
      " 31  EducationField_Marketing           1205 non-null   uint8  \n",
      " 32  EducationField_Medical             1205 non-null   uint8  \n",
      " 33  EducationField_Other               1205 non-null   uint8  \n",
      " 34  EducationField_Technical Degree    1205 non-null   uint8  \n",
      " 35  Gender_Male                        1205 non-null   uint8  \n",
      " 36  JobRole_Human Resources            1205 non-null   uint8  \n",
      " 37  JobRole_Laboratory Technician      1205 non-null   uint8  \n",
      " 38  JobRole_Manager                    1205 non-null   uint8  \n",
      " 39  JobRole_Manufacturing Director     1205 non-null   uint8  \n",
      " 40  JobRole_Research Director          1205 non-null   uint8  \n",
      " 41  JobRole_Research Scientist         1205 non-null   uint8  \n",
      " 42  JobRole_Sales Executive            1205 non-null   uint8  \n",
      " 43  JobRole_Sales Representative       1205 non-null   uint8  \n",
      " 44  MaritalStatus_Married              1205 non-null   uint8  \n",
      " 45  MaritalStatus_Single               1205 non-null   uint8  \n",
      " 46  OverTime_Yes                       1205 non-null   uint8  \n",
      "dtypes: float64(1), int64(25), uint8(21)\n",
      "memory usage: 278.9 KB\n"
     ]
    }
   ],
   "source": [
    "x=pd.get_dummies(filled,drop_first=True)\n",
    "x.info()"
   ]
  },
  {
   "cell_type": "code",
   "execution_count": 52,
   "metadata": {},
   "outputs": [],
   "source": [
    "from sklearn.linear_model import LinearRegression\n",
    "L=LinearRegression()"
   ]
  },
  {
   "cell_type": "code",
   "execution_count": 56,
   "metadata": {},
   "outputs": [
    {
     "data": {
      "text/plain": [
       "LinearRegression(copy_X=True, fit_intercept=True, n_jobs=None, normalize=False)"
      ]
     },
     "execution_count": 56,
     "metadata": {},
     "output_type": "execute_result"
    }
   ],
   "source": [
    "L.fit(x.drop(\"MonthlyIncome\",axis=1),x.MonthlyIncome)"
   ]
  },
  {
   "cell_type": "code",
   "execution_count": 57,
   "metadata": {
    "scrolled": true
   },
   "outputs": [
    {
     "data": {
      "text/plain": [
       "array([5847.45618524, 5262.40598849, 2850.2655657 , ..., 5753.87104661,\n",
       "       6309.93005008, 5148.0137686 ])"
      ]
     },
     "execution_count": 57,
     "metadata": {},
     "output_type": "execute_result"
    }
   ],
   "source": [
    "pred=L.predict(x.drop(\"MonthlyIncome\",axis=1))\n",
    "pred"
   ]
  },
  {
   "cell_type": "code",
   "execution_count": 58,
   "metadata": {},
   "outputs": [
    {
     "data": {
      "text/plain": [
       "0.9478332054077498"
      ]
     },
     "execution_count": 58,
     "metadata": {},
     "output_type": "execute_result"
    }
   ],
   "source": [
    "r2_score(x[\"MonthlyIncome\"],pred)"
   ]
  },
  {
   "cell_type": "code",
   "execution_count": 59,
   "metadata": {},
   "outputs": [
    {
     "data": {
      "text/plain": [
       "1085.8711186054825"
      ]
     },
     "execution_count": 59,
     "metadata": {},
     "output_type": "execute_result"
    }
   ],
   "source": [
    "mean_squared_error(x[\"MonthlyIncome\"],L.predict(x.drop(\"MonthlyIncome\",axis=1)))**.5"
   ]
  },
  {
   "cell_type": "markdown",
   "metadata": {},
   "source": [
    "## Ridge"
   ]
  },
  {
   "cell_type": "code",
   "execution_count": 66,
   "metadata": {},
   "outputs": [],
   "source": [
    "from sklearn.linear_model import Ridge\n",
    "R=Ridge()"
   ]
  },
  {
   "cell_type": "code",
   "execution_count": 67,
   "metadata": {},
   "outputs": [
    {
     "data": {
      "text/plain": [
       "Ridge(alpha=1.0, copy_X=True, fit_intercept=True, max_iter=None,\n",
       "      normalize=False, random_state=None, solver='auto', tol=0.001)"
      ]
     },
     "execution_count": 67,
     "metadata": {},
     "output_type": "execute_result"
    }
   ],
   "source": [
    "R.fit(x.drop(\"MonthlyIncome\",axis=1),x[\"MonthlyIncome\"])"
   ]
  },
  {
   "cell_type": "code",
   "execution_count": 68,
   "metadata": {},
   "outputs": [
    {
     "data": {
      "text/plain": [
       "0.9478332054077498"
      ]
     },
     "execution_count": 68,
     "metadata": {},
     "output_type": "execute_result"
    }
   ],
   "source": [
    "r2_score(x[\"MonthlyIncome\"],pred)"
   ]
  },
  {
   "cell_type": "code",
   "execution_count": 69,
   "metadata": {},
   "outputs": [
    {
     "data": {
      "text/plain": [
       "1086.4423647219965"
      ]
     },
     "execution_count": 69,
     "metadata": {},
     "output_type": "execute_result"
    }
   ],
   "source": [
    "mean_squared_error(x[\"MonthlyIncome\"],R.predict(x.drop(\"MonthlyIncome\",axis=1)))**.5"
   ]
  },
  {
   "cell_type": "markdown",
   "metadata": {},
   "source": [
    "## Lasso"
   ]
  },
  {
   "cell_type": "code",
   "execution_count": 70,
   "metadata": {},
   "outputs": [],
   "source": [
    "from sklearn.linear_model import Lasso\n",
    "La=Lasso(alpha=100)"
   ]
  },
  {
   "cell_type": "code",
   "execution_count": 71,
   "metadata": {},
   "outputs": [
    {
     "data": {
      "text/plain": [
       "Lasso(alpha=100, copy_X=True, fit_intercept=True, max_iter=1000,\n",
       "      normalize=False, positive=False, precompute=False, random_state=None,\n",
       "      selection='cyclic', tol=0.0001, warm_start=False)"
      ]
     },
     "execution_count": 71,
     "metadata": {},
     "output_type": "execute_result"
    }
   ],
   "source": [
    "La.fit(x.drop(\"MonthlyIncome\",axis=1),x[\"MonthlyIncome\"])"
   ]
  },
  {
   "cell_type": "code",
   "execution_count": 72,
   "metadata": {},
   "outputs": [
    {
     "data": {
      "text/plain": [
       "0.9478332054077498"
      ]
     },
     "execution_count": 72,
     "metadata": {},
     "output_type": "execute_result"
    }
   ],
   "source": [
    "r2_score(x[\"MonthlyIncome\"],pred)"
   ]
  },
  {
   "cell_type": "code",
   "execution_count": 73,
   "metadata": {},
   "outputs": [
    {
     "data": {
      "text/plain": [
       "1353.7562990669594"
      ]
     },
     "execution_count": 73,
     "metadata": {},
     "output_type": "execute_result"
    }
   ],
   "source": [
    "mean_squared_error(x[\"MonthlyIncome\"],La.predict(x.drop(\"MonthlyIncome\",axis=1)))**.5"
   ]
  },
  {
   "cell_type": "markdown",
   "metadata": {},
   "source": [
    "## Elastic-Net"
   ]
  },
  {
   "cell_type": "code",
   "execution_count": 74,
   "metadata": {},
   "outputs": [],
   "source": [
    "from sklearn.linear_model import ElasticNet\n",
    "E=ElasticNet()"
   ]
  },
  {
   "cell_type": "code",
   "execution_count": 75,
   "metadata": {},
   "outputs": [
    {
     "data": {
      "text/plain": [
       "ElasticNet(alpha=1.0, copy_X=True, fit_intercept=True, l1_ratio=0.5,\n",
       "           max_iter=1000, normalize=False, positive=False, precompute=False,\n",
       "           random_state=None, selection='cyclic', tol=0.0001, warm_start=False)"
      ]
     },
     "execution_count": 75,
     "metadata": {},
     "output_type": "execute_result"
    }
   ],
   "source": [
    "E.fit(x.drop(\"MonthlyIncome\",axis=1),x[\"MonthlyIncome\"])"
   ]
  },
  {
   "cell_type": "code",
   "execution_count": 76,
   "metadata": {},
   "outputs": [
    {
     "data": {
      "text/plain": [
       "0.9478332054077498"
      ]
     },
     "execution_count": 76,
     "metadata": {},
     "output_type": "execute_result"
    }
   ],
   "source": [
    "r2_score(x[\"MonthlyIncome\"],pred)"
   ]
  },
  {
   "cell_type": "code",
   "execution_count": 77,
   "metadata": {},
   "outputs": [
    {
     "data": {
      "text/plain": [
       "1882.1388982586668"
      ]
     },
     "execution_count": 77,
     "metadata": {},
     "output_type": "execute_result"
    }
   ],
   "source": [
    "mean_squared_error(x[\"MonthlyIncome\"],E.predict(x.drop(\"MonthlyIncome\",axis=1)))**.5"
   ]
  },
  {
   "cell_type": "code",
   "execution_count": 80,
   "metadata": {
    "collapsed": true
   },
   "outputs": [
    {
     "name": "stdout",
     "output_type": "stream",
     "text": [
      "<class 'pandas.core.frame.DataFrame'>\n",
      "Int64Index: 265 entries, 367 to 1465\n",
      "Data columns (total 33 columns):\n",
      " #   Column                    Non-Null Count  Dtype \n",
      "---  ------                    --------------  ----- \n",
      " 0   Age                       265 non-null    int64 \n",
      " 1   BusinessTravel            265 non-null    object\n",
      " 2   DailyRate                 265 non-null    int64 \n",
      " 3   Department                265 non-null    object\n",
      " 4   DistanceFromHome          265 non-null    int64 \n",
      " 5   Education                 265 non-null    int64 \n",
      " 6   EducationField            265 non-null    object\n",
      " 7   EmployeeCount             265 non-null    int64 \n",
      " 8   EmployeeNumber            265 non-null    int64 \n",
      " 9   EnvironmentSatisfaction   265 non-null    int64 \n",
      " 10  Gender                    265 non-null    object\n",
      " 11  HourlyRate                265 non-null    int64 \n",
      " 12  JobInvolvement            265 non-null    int64 \n",
      " 13  JobLevel                  265 non-null    int64 \n",
      " 14  JobRole                   265 non-null    object\n",
      " 15  JobSatisfaction           265 non-null    int64 \n",
      " 16  MaritalStatus             265 non-null    object\n",
      " 17  MonthlyRate               265 non-null    int64 \n",
      " 18  NumCompaniesWorked        265 non-null    int64 \n",
      " 19  Over18                    265 non-null    object\n",
      " 20  OverTime                  265 non-null    object\n",
      " 21  PercentSalaryHike         265 non-null    int64 \n",
      " 22  PerformanceRating         265 non-null    int64 \n",
      " 23  RelationshipSatisfaction  265 non-null    int64 \n",
      " 24  StandardHours             265 non-null    int64 \n",
      " 25  StockOptionLevel          265 non-null    int64 \n",
      " 26  TotalWorkingYears         265 non-null    int64 \n",
      " 27  TrainingTimesLastYear     265 non-null    int64 \n",
      " 28  WorkLifeBalance           265 non-null    int64 \n",
      " 29  YearsAtCompany            265 non-null    int64 \n",
      " 30  YearsInCurrentRole        265 non-null    int64 \n",
      " 31  YearsSinceLastPromotion   265 non-null    int64 \n",
      " 32  YearsWithCurrManager      265 non-null    int64 \n",
      "dtypes: int64(25), object(8)\n",
      "memory usage: 70.4+ KB\n"
     ]
    }
   ],
   "source": [
    "missing.info()"
   ]
  },
  {
   "cell_type": "code",
   "execution_count": 79,
   "metadata": {},
   "outputs": [],
   "source": [
    "del missing[\"MonthlyIncome\"]"
   ]
  },
  {
   "cell_type": "code",
   "execution_count": 81,
   "metadata": {},
   "outputs": [],
   "source": [
    "x=pd.get_dummies(missing,drop_first=True)"
   ]
  },
  {
   "cell_type": "code",
   "execution_count": 82,
   "metadata": {},
   "outputs": [
    {
     "data": {
      "text/plain": [
       "(265, 46)"
      ]
     },
     "execution_count": 82,
     "metadata": {},
     "output_type": "execute_result"
    }
   ],
   "source": [
    "x.shape"
   ]
  },
  {
   "cell_type": "code",
   "execution_count": 83,
   "metadata": {},
   "outputs": [],
   "source": [
    "predictions=R.predict(x)"
   ]
  },
  {
   "cell_type": "code",
   "execution_count": 84,
   "metadata": {
    "scrolled": true
   },
   "outputs": [
    {
     "data": {
      "text/plain": [
       "(6314.630493426681, 1961.186410146085, 19664.535032078544)"
      ]
     },
     "execution_count": 84,
     "metadata": {},
     "output_type": "execute_result"
    }
   ],
   "source": [
    "predictions.mean(),predictions.min(),predictions.max()"
   ]
  },
  {
   "cell_type": "code",
   "execution_count": 85,
   "metadata": {
    "collapsed": true
   },
   "outputs": [
    {
     "name": "stderr",
     "output_type": "stream",
     "text": [
      "D:\\programlar\\anaconda\\lib\\site-packages\\pandas\\core\\indexing.py:844: SettingWithCopyWarning: \n",
      "A value is trying to be set on a copy of a slice from a DataFrame.\n",
      "Try using .loc[row_indexer,col_indexer] = value instead\n",
      "\n",
      "See the caveats in the documentation: https://pandas.pydata.org/pandas-docs/stable/user_guide/indexing.html#returning-a-view-versus-a-copy\n",
      "  self.obj[key] = _infer_fill_value(value)\n",
      "D:\\programlar\\anaconda\\lib\\site-packages\\pandas\\core\\indexing.py:965: SettingWithCopyWarning: \n",
      "A value is trying to be set on a copy of a slice from a DataFrame.\n",
      "Try using .loc[row_indexer,col_indexer] = value instead\n",
      "\n",
      "See the caveats in the documentation: https://pandas.pydata.org/pandas-docs/stable/user_guide/indexing.html#returning-a-view-versus-a-copy\n",
      "  self.obj[item] = s\n"
     ]
    }
   ],
   "source": [
    "missing.loc[:,\"MonthlyIncome\"]=predictions"
   ]
  },
  {
   "cell_type": "code",
   "execution_count": 86,
   "metadata": {},
   "outputs": [],
   "source": [
    "results=missing.append(filled).sort_values(\"EmployeeNumber\")"
   ]
  },
  {
   "cell_type": "code",
   "execution_count": 87,
   "metadata": {
    "collapsed": true
   },
   "outputs": [
    {
     "data": {
      "text/html": [
       "<div>\n",
       "<style scoped>\n",
       "    .dataframe tbody tr th:only-of-type {\n",
       "        vertical-align: middle;\n",
       "    }\n",
       "\n",
       "    .dataframe tbody tr th {\n",
       "        vertical-align: top;\n",
       "    }\n",
       "\n",
       "    .dataframe thead th {\n",
       "        text-align: right;\n",
       "    }\n",
       "</style>\n",
       "<table border=\"1\" class=\"dataframe\">\n",
       "  <thead>\n",
       "    <tr style=\"text-align: right;\">\n",
       "      <th></th>\n",
       "      <th>Age</th>\n",
       "      <th>BusinessTravel</th>\n",
       "      <th>DailyRate</th>\n",
       "      <th>Department</th>\n",
       "      <th>DistanceFromHome</th>\n",
       "      <th>Education</th>\n",
       "      <th>EducationField</th>\n",
       "      <th>EmployeeCount</th>\n",
       "      <th>EmployeeNumber</th>\n",
       "      <th>EnvironmentSatisfaction</th>\n",
       "      <th>Gender</th>\n",
       "      <th>HourlyRate</th>\n",
       "      <th>JobInvolvement</th>\n",
       "      <th>JobLevel</th>\n",
       "      <th>JobRole</th>\n",
       "      <th>JobSatisfaction</th>\n",
       "      <th>MaritalStatus</th>\n",
       "      <th>MonthlyRate</th>\n",
       "      <th>NumCompaniesWorked</th>\n",
       "      <th>Over18</th>\n",
       "      <th>OverTime</th>\n",
       "      <th>PercentSalaryHike</th>\n",
       "      <th>PerformanceRating</th>\n",
       "      <th>RelationshipSatisfaction</th>\n",
       "      <th>StandardHours</th>\n",
       "      <th>StockOptionLevel</th>\n",
       "      <th>TotalWorkingYears</th>\n",
       "      <th>TrainingTimesLastYear</th>\n",
       "      <th>WorkLifeBalance</th>\n",
       "      <th>YearsAtCompany</th>\n",
       "      <th>YearsInCurrentRole</th>\n",
       "      <th>YearsSinceLastPromotion</th>\n",
       "      <th>YearsWithCurrManager</th>\n",
       "      <th>MonthlyIncome</th>\n",
       "    </tr>\n",
       "  </thead>\n",
       "  <tbody>\n",
       "    <tr>\n",
       "      <th>0</th>\n",
       "      <td>41</td>\n",
       "      <td>Travel_Rarely</td>\n",
       "      <td>1102</td>\n",
       "      <td>Sales</td>\n",
       "      <td>1</td>\n",
       "      <td>2</td>\n",
       "      <td>Life Sciences</td>\n",
       "      <td>1</td>\n",
       "      <td>1</td>\n",
       "      <td>2</td>\n",
       "      <td>Female</td>\n",
       "      <td>94</td>\n",
       "      <td>3</td>\n",
       "      <td>2</td>\n",
       "      <td>Sales Executive</td>\n",
       "      <td>4</td>\n",
       "      <td>Single</td>\n",
       "      <td>19479</td>\n",
       "      <td>8</td>\n",
       "      <td>Y</td>\n",
       "      <td>Yes</td>\n",
       "      <td>11</td>\n",
       "      <td>3</td>\n",
       "      <td>1</td>\n",
       "      <td>80</td>\n",
       "      <td>0</td>\n",
       "      <td>8</td>\n",
       "      <td>0</td>\n",
       "      <td>1</td>\n",
       "      <td>6</td>\n",
       "      <td>4</td>\n",
       "      <td>0</td>\n",
       "      <td>5</td>\n",
       "      <td>5993.0</td>\n",
       "    </tr>\n",
       "    <tr>\n",
       "      <th>1</th>\n",
       "      <td>49</td>\n",
       "      <td>Travel_Frequently</td>\n",
       "      <td>279</td>\n",
       "      <td>Research &amp; Development</td>\n",
       "      <td>8</td>\n",
       "      <td>1</td>\n",
       "      <td>Life Sciences</td>\n",
       "      <td>1</td>\n",
       "      <td>2</td>\n",
       "      <td>3</td>\n",
       "      <td>Male</td>\n",
       "      <td>61</td>\n",
       "      <td>2</td>\n",
       "      <td>2</td>\n",
       "      <td>Research Scientist</td>\n",
       "      <td>2</td>\n",
       "      <td>Married</td>\n",
       "      <td>24907</td>\n",
       "      <td>1</td>\n",
       "      <td>Y</td>\n",
       "      <td>No</td>\n",
       "      <td>23</td>\n",
       "      <td>4</td>\n",
       "      <td>4</td>\n",
       "      <td>80</td>\n",
       "      <td>1</td>\n",
       "      <td>10</td>\n",
       "      <td>3</td>\n",
       "      <td>3</td>\n",
       "      <td>10</td>\n",
       "      <td>7</td>\n",
       "      <td>1</td>\n",
       "      <td>7</td>\n",
       "      <td>5130.0</td>\n",
       "    </tr>\n",
       "    <tr>\n",
       "      <th>2</th>\n",
       "      <td>37</td>\n",
       "      <td>Travel_Rarely</td>\n",
       "      <td>1373</td>\n",
       "      <td>Research &amp; Development</td>\n",
       "      <td>2</td>\n",
       "      <td>2</td>\n",
       "      <td>Other</td>\n",
       "      <td>1</td>\n",
       "      <td>4</td>\n",
       "      <td>4</td>\n",
       "      <td>Male</td>\n",
       "      <td>92</td>\n",
       "      <td>2</td>\n",
       "      <td>1</td>\n",
       "      <td>Laboratory Technician</td>\n",
       "      <td>3</td>\n",
       "      <td>Single</td>\n",
       "      <td>2396</td>\n",
       "      <td>6</td>\n",
       "      <td>Y</td>\n",
       "      <td>Yes</td>\n",
       "      <td>15</td>\n",
       "      <td>3</td>\n",
       "      <td>2</td>\n",
       "      <td>80</td>\n",
       "      <td>0</td>\n",
       "      <td>7</td>\n",
       "      <td>3</td>\n",
       "      <td>3</td>\n",
       "      <td>0</td>\n",
       "      <td>0</td>\n",
       "      <td>0</td>\n",
       "      <td>0</td>\n",
       "      <td>2090.0</td>\n",
       "    </tr>\n",
       "    <tr>\n",
       "      <th>3</th>\n",
       "      <td>33</td>\n",
       "      <td>Travel_Frequently</td>\n",
       "      <td>1392</td>\n",
       "      <td>Research &amp; Development</td>\n",
       "      <td>3</td>\n",
       "      <td>4</td>\n",
       "      <td>Life Sciences</td>\n",
       "      <td>1</td>\n",
       "      <td>5</td>\n",
       "      <td>4</td>\n",
       "      <td>Female</td>\n",
       "      <td>56</td>\n",
       "      <td>3</td>\n",
       "      <td>1</td>\n",
       "      <td>Research Scientist</td>\n",
       "      <td>3</td>\n",
       "      <td>Married</td>\n",
       "      <td>23159</td>\n",
       "      <td>1</td>\n",
       "      <td>Y</td>\n",
       "      <td>Yes</td>\n",
       "      <td>11</td>\n",
       "      <td>3</td>\n",
       "      <td>3</td>\n",
       "      <td>80</td>\n",
       "      <td>0</td>\n",
       "      <td>8</td>\n",
       "      <td>3</td>\n",
       "      <td>3</td>\n",
       "      <td>8</td>\n",
       "      <td>7</td>\n",
       "      <td>3</td>\n",
       "      <td>0</td>\n",
       "      <td>2909.0</td>\n",
       "    </tr>\n",
       "    <tr>\n",
       "      <th>4</th>\n",
       "      <td>27</td>\n",
       "      <td>Travel_Rarely</td>\n",
       "      <td>591</td>\n",
       "      <td>Research &amp; Development</td>\n",
       "      <td>2</td>\n",
       "      <td>1</td>\n",
       "      <td>Medical</td>\n",
       "      <td>1</td>\n",
       "      <td>7</td>\n",
       "      <td>1</td>\n",
       "      <td>Male</td>\n",
       "      <td>40</td>\n",
       "      <td>3</td>\n",
       "      <td>1</td>\n",
       "      <td>Laboratory Technician</td>\n",
       "      <td>2</td>\n",
       "      <td>Married</td>\n",
       "      <td>16632</td>\n",
       "      <td>9</td>\n",
       "      <td>Y</td>\n",
       "      <td>No</td>\n",
       "      <td>12</td>\n",
       "      <td>3</td>\n",
       "      <td>4</td>\n",
       "      <td>80</td>\n",
       "      <td>1</td>\n",
       "      <td>6</td>\n",
       "      <td>3</td>\n",
       "      <td>3</td>\n",
       "      <td>2</td>\n",
       "      <td>2</td>\n",
       "      <td>2</td>\n",
       "      <td>2</td>\n",
       "      <td>3468.0</td>\n",
       "    </tr>\n",
       "  </tbody>\n",
       "</table>\n",
       "</div>"
      ],
      "text/plain": [
       "   Age     BusinessTravel  DailyRate              Department  \\\n",
       "0   41      Travel_Rarely       1102                   Sales   \n",
       "1   49  Travel_Frequently        279  Research & Development   \n",
       "2   37      Travel_Rarely       1373  Research & Development   \n",
       "3   33  Travel_Frequently       1392  Research & Development   \n",
       "4   27      Travel_Rarely        591  Research & Development   \n",
       "\n",
       "   DistanceFromHome  Education EducationField  EmployeeCount  EmployeeNumber  \\\n",
       "0                 1          2  Life Sciences              1               1   \n",
       "1                 8          1  Life Sciences              1               2   \n",
       "2                 2          2          Other              1               4   \n",
       "3                 3          4  Life Sciences              1               5   \n",
       "4                 2          1        Medical              1               7   \n",
       "\n",
       "   EnvironmentSatisfaction  Gender  HourlyRate  JobInvolvement  JobLevel  \\\n",
       "0                        2  Female          94               3         2   \n",
       "1                        3    Male          61               2         2   \n",
       "2                        4    Male          92               2         1   \n",
       "3                        4  Female          56               3         1   \n",
       "4                        1    Male          40               3         1   \n",
       "\n",
       "                 JobRole  JobSatisfaction MaritalStatus  MonthlyRate  \\\n",
       "0        Sales Executive                4        Single        19479   \n",
       "1     Research Scientist                2       Married        24907   \n",
       "2  Laboratory Technician                3        Single         2396   \n",
       "3     Research Scientist                3       Married        23159   \n",
       "4  Laboratory Technician                2       Married        16632   \n",
       "\n",
       "   NumCompaniesWorked Over18 OverTime  PercentSalaryHike  PerformanceRating  \\\n",
       "0                   8      Y      Yes                 11                  3   \n",
       "1                   1      Y       No                 23                  4   \n",
       "2                   6      Y      Yes                 15                  3   \n",
       "3                   1      Y      Yes                 11                  3   \n",
       "4                   9      Y       No                 12                  3   \n",
       "\n",
       "   RelationshipSatisfaction  StandardHours  StockOptionLevel  \\\n",
       "0                         1             80                 0   \n",
       "1                         4             80                 1   \n",
       "2                         2             80                 0   \n",
       "3                         3             80                 0   \n",
       "4                         4             80                 1   \n",
       "\n",
       "   TotalWorkingYears  TrainingTimesLastYear  WorkLifeBalance  YearsAtCompany  \\\n",
       "0                  8                      0                1               6   \n",
       "1                 10                      3                3              10   \n",
       "2                  7                      3                3               0   \n",
       "3                  8                      3                3               8   \n",
       "4                  6                      3                3               2   \n",
       "\n",
       "   YearsInCurrentRole  YearsSinceLastPromotion  YearsWithCurrManager  \\\n",
       "0                   4                        0                     5   \n",
       "1                   7                        1                     7   \n",
       "2                   0                        0                     0   \n",
       "3                   7                        3                     0   \n",
       "4                   2                        2                     2   \n",
       "\n",
       "   MonthlyIncome  \n",
       "0         5993.0  \n",
       "1         5130.0  \n",
       "2         2090.0  \n",
       "3         2909.0  \n",
       "4         3468.0  "
      ]
     },
     "execution_count": 87,
     "metadata": {},
     "output_type": "execute_result"
    }
   ],
   "source": [
    "results.head()"
   ]
  },
  {
   "cell_type": "code",
   "execution_count": 88,
   "metadata": {},
   "outputs": [],
   "source": [
    "results.to_csv(\"estimated monthly income.csv\",index=False)"
   ]
  },
  {
   "cell_type": "code",
   "execution_count": null,
   "metadata": {},
   "outputs": [],
   "source": []
  },
  {
   "cell_type": "code",
   "execution_count": null,
   "metadata": {},
   "outputs": [],
   "source": []
  },
  {
   "cell_type": "code",
   "execution_count": null,
   "metadata": {},
   "outputs": [],
   "source": []
  },
  {
   "cell_type": "code",
   "execution_count": null,
   "metadata": {},
   "outputs": [],
   "source": []
  },
  {
   "cell_type": "code",
   "execution_count": null,
   "metadata": {},
   "outputs": [],
   "source": []
  }
 ],
 "metadata": {
  "kernelspec": {
   "display_name": "Python 3",
   "language": "python",
   "name": "python3"
  },
  "language_info": {
   "codemirror_mode": {
    "name": "ipython",
    "version": 3
   },
   "file_extension": ".py",
   "mimetype": "text/x-python",
   "name": "python",
   "nbconvert_exporter": "python",
   "pygments_lexer": "ipython3",
   "version": "3.7.6"
  }
 },
 "nbformat": 4,
 "nbformat_minor": 4
}
